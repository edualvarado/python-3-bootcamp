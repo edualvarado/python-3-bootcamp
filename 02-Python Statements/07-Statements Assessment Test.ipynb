{
 "cells": [
  {
   "cell_type": "markdown",
   "metadata": {},
   "source": [
    "___\n",
    "\n",
    "<a href='https://www.udemy.com/user/joseportilla/'><img src='../Pierian_Data_Logo.png'/></a>\n",
    "___\n",
    "<center><em>Content Copyright by Pierian Data</em></center>"
   ]
  },
  {
   "cell_type": "markdown",
   "metadata": {
    "collapsed": true
   },
   "source": [
    "# Statements Assessment Test\n",
    "Let's test your knowledge!"
   ]
  },
  {
   "cell_type": "markdown",
   "metadata": {},
   "source": [
    "_____\n",
    "**Use <code>for</code>, .split(), and <code>if</code> to create a Statement that will print out words that start with 's':**"
   ]
  },
  {
   "cell_type": "code",
   "execution_count": 1,
   "metadata": {},
   "outputs": [],
   "source": [
    "st = 'Print only the words that start with s in this sentence'"
   ]
  },
  {
   "cell_type": "code",
   "execution_count": 2,
   "metadata": {},
   "outputs": [
    {
     "name": "stdout",
     "output_type": "stream",
     "text": [
      "start\n",
      "s\n",
      "sentence\n",
      "['start', 's', 'sentence']\n"
     ]
    }
   ],
   "source": [
    "#Code here\n",
    "for word in st.split():\n",
    "    if word[0] == \"s\":\n",
    "        print(word)\n",
    "        \n",
    "print([word for word in st.split() if word[0] == \"s\"])"
   ]
  },
  {
   "cell_type": "markdown",
   "metadata": {},
   "source": [
    "______\n",
    "**Use range() to print all the even numbers from 0 to 10.**"
   ]
  },
  {
   "cell_type": "code",
   "execution_count": 3,
   "metadata": {},
   "outputs": [
    {
     "name": "stdout",
     "output_type": "stream",
     "text": [
      "0\n",
      "2\n",
      "4\n",
      "6\n",
      "8\n",
      "10\n",
      "[0, 2, 4, 6, 8, 10]\n"
     ]
    },
    {
     "data": {
      "text/plain": [
       "[0, 2, 4, 6, 8, 10]"
      ]
     },
     "execution_count": 3,
     "metadata": {},
     "output_type": "execute_result"
    }
   ],
   "source": [
    "#Code Here\n",
    "for i in range(0,11):\n",
    "    if i%2 == 0:\n",
    "        print(i)\n",
    "        \n",
    "print([x for x in range(11) if x%2 == 0])\n",
    "\n",
    "list(range(0,11,2))"
   ]
  },
  {
   "cell_type": "markdown",
   "metadata": {},
   "source": [
    "___\n",
    "**Use a List Comprehension to create a list of all numbers between 1 and 50 that are divisible by 3.**"
   ]
  },
  {
   "cell_type": "code",
   "execution_count": 4,
   "metadata": {},
   "outputs": [
    {
     "data": {
      "text/plain": [
       "[3, 6, 9, 12, 15, 18, 21, 24, 27, 30, 33, 36, 39, 42, 45, 48]"
      ]
     },
     "execution_count": 4,
     "metadata": {},
     "output_type": "execute_result"
    }
   ],
   "source": [
    "#Code in this cell\n",
    "[x for x in range(1,51) if x % 3 == 0]"
   ]
  },
  {
   "cell_type": "markdown",
   "metadata": {},
   "source": [
    "_____\n",
    "**Go through the string below and if the length of a word is even print \"even!\"**"
   ]
  },
  {
   "cell_type": "code",
   "execution_count": 5,
   "metadata": {},
   "outputs": [],
   "source": [
    "st = 'Print every word in this sentence that has an even number of letters'"
   ]
  },
  {
   "cell_type": "code",
   "execution_count": 6,
   "metadata": {},
   "outputs": [
    {
     "name": "stdout",
     "output_type": "stream",
     "text": [
      "word word in position 2 is even!\n",
      "word in in position 3 is even!\n",
      "word this in position 4 is even!\n",
      "word sentence in position 5 is even!\n",
      "word that in position 6 is even!\n",
      "word an in position 8 is even!\n",
      "word even in position 9 is even!\n",
      "word number in position 10 is even!\n",
      "word of in position 11 is even!\n"
     ]
    }
   ],
   "source": [
    "#Code in this cell\n",
    "for idx, word in enumerate(st.split()):\n",
    "    if len(word) % 2 == 0:\n",
    "        print(\"word {} in position {} is even!\".format(word, idx))"
   ]
  },
  {
   "cell_type": "markdown",
   "metadata": {},
   "source": [
    "____\n",
    "**Write a program that prints the integers from 1 to 100. But for multiples of three print \"Fizz\" instead of the number, and for the multiples of five print \"Buzz\". For numbers which are multiples of both three and five print \"FizzBuzz\".**"
   ]
  },
  {
   "cell_type": "code",
   "execution_count": 7,
   "metadata": {},
   "outputs": [
    {
     "name": "stdout",
     "output_type": "stream",
     "text": [
      "1 - num\n",
      "2 - num\n",
      "3 - Fizz\n",
      "4 - num\n",
      "5 - Buzz\n",
      "6 - Fizz\n",
      "7 - num\n",
      "8 - num\n",
      "9 - Fizz\n",
      "10 - Buzz\n",
      "11 - num\n",
      "12 - Fizz\n",
      "13 - num\n",
      "14 - num\n",
      "15 - FizzBuzz\n",
      "16 - num\n",
      "17 - num\n",
      "18 - Fizz\n",
      "19 - num\n",
      "20 - Buzz\n",
      "21 - Fizz\n",
      "22 - num\n",
      "23 - num\n",
      "24 - Fizz\n",
      "25 - Buzz\n",
      "26 - num\n",
      "27 - Fizz\n",
      "28 - num\n",
      "29 - num\n",
      "30 - FizzBuzz\n",
      "31 - num\n",
      "32 - num\n",
      "33 - Fizz\n",
      "34 - num\n",
      "35 - Buzz\n",
      "36 - Fizz\n",
      "37 - num\n",
      "38 - num\n",
      "39 - Fizz\n",
      "40 - Buzz\n",
      "41 - num\n",
      "42 - Fizz\n",
      "43 - num\n",
      "44 - num\n",
      "45 - FizzBuzz\n",
      "46 - num\n",
      "47 - num\n",
      "48 - Fizz\n",
      "49 - num\n",
      "50 - Buzz\n",
      "51 - Fizz\n",
      "52 - num\n",
      "53 - num\n",
      "54 - Fizz\n",
      "55 - Buzz\n",
      "56 - num\n",
      "57 - Fizz\n",
      "58 - num\n",
      "59 - num\n",
      "60 - FizzBuzz\n",
      "61 - num\n",
      "62 - num\n",
      "63 - Fizz\n",
      "64 - num\n",
      "65 - Buzz\n",
      "66 - Fizz\n",
      "67 - num\n",
      "68 - num\n",
      "69 - Fizz\n",
      "70 - Buzz\n",
      "71 - num\n",
      "72 - Fizz\n",
      "73 - num\n",
      "74 - num\n",
      "75 - FizzBuzz\n",
      "76 - num\n",
      "77 - num\n",
      "78 - Fizz\n",
      "79 - num\n",
      "80 - Buzz\n",
      "81 - Fizz\n",
      "82 - num\n",
      "83 - num\n",
      "84 - Fizz\n",
      "85 - Buzz\n",
      "86 - num\n",
      "87 - Fizz\n",
      "88 - num\n",
      "89 - num\n",
      "90 - FizzBuzz\n",
      "91 - num\n",
      "92 - num\n",
      "93 - Fizz\n",
      "94 - num\n",
      "95 - Buzz\n",
      "96 - Fizz\n",
      "97 - num\n",
      "98 - num\n",
      "99 - Fizz\n",
      "100 - Buzz\n"
     ]
    }
   ],
   "source": [
    "#Code in this cell\n",
    "for num in range(1,101):\n",
    "    if num % 3 == 0 and num % 5 == 0:\n",
    "        print(\"{} - FizzBuzz\".format(num))\n",
    "    else:\n",
    "        if num % 3 == 0:\n",
    "            print(\"{} - Fizz\".format(num))\n",
    "        elif num % 5 == 0:\n",
    "            print(\"{} - Buzz\".format(num))\n",
    "        else:\n",
    "            print(\"{} - num\".format(num))"
   ]
  },
  {
   "cell_type": "markdown",
   "metadata": {},
   "source": [
    "____\n",
    "**Use List Comprehension to create a list of the first letters of every word in the string below:**"
   ]
  },
  {
   "cell_type": "code",
   "execution_count": 8,
   "metadata": {},
   "outputs": [],
   "source": [
    "st = 'Create a list of the first letters of every word in this string'"
   ]
  },
  {
   "cell_type": "code",
   "execution_count": 9,
   "metadata": {},
   "outputs": [
    {
     "data": {
      "text/plain": [
       "['C', 'a', 'l', 'o', 't', 'f', 'l', 'o', 'e', 'w', 'i', 't', 's']"
      ]
     },
     "execution_count": 9,
     "metadata": {},
     "output_type": "execute_result"
    }
   ],
   "source": [
    "#Code in this cell\n",
    "mylist = [word[0] for word in st.split()]\n",
    "mylist"
   ]
  },
  {
   "cell_type": "markdown",
   "metadata": {},
   "source": [
    "### Great Job!"
   ]
  }
 ],
 "metadata": {
  "kernelspec": {
   "display_name": "Python 3",
   "language": "python",
   "name": "python3"
  },
  "language_info": {
   "codemirror_mode": {
    "name": "ipython",
    "version": 3
   },
   "file_extension": ".py",
   "mimetype": "text/x-python",
   "name": "python",
   "nbconvert_exporter": "python",
   "pygments_lexer": "ipython3",
   "version": "3.7.7"
  }
 },
 "nbformat": 4,
 "nbformat_minor": 1
}
